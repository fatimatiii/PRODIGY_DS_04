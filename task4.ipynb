{
 "cells": [
  {
   "cell_type": "code",
   "execution_count": 1,
   "id": "d3b7556b-8fb5-45e9-a525-8cc407fb941c",
   "metadata": {},
   "outputs": [],
   "source": [
    "import pandas as pd "
   ]
  },
  {
   "cell_type": "code",
   "execution_count": 2,
   "id": "0f6740db-4be1-4918-a8eb-c996fb79d2a8",
   "metadata": {},
   "outputs": [],
   "source": [
    "#loading the training dataset :\n",
    "train=pd.read_csv(\"twitter_training.csv\")\n",
    "test=pd.read_csv('twitter_validation.csv')"
   ]
  },
  {
   "cell_type": "code",
   "execution_count": 3,
   "id": "d9ac8163-a778-4c62-80b5-e7ae5dbe5782",
   "metadata": {},
   "outputs": [
    {
     "data": {
      "text/html": [
       "<div>\n",
       "<style scoped>\n",
       "    .dataframe tbody tr th:only-of-type {\n",
       "        vertical-align: middle;\n",
       "    }\n",
       "\n",
       "    .dataframe tbody tr th {\n",
       "        vertical-align: top;\n",
       "    }\n",
       "\n",
       "    .dataframe thead th {\n",
       "        text-align: right;\n",
       "    }\n",
       "</style>\n",
       "<table border=\"1\" class=\"dataframe\">\n",
       "  <thead>\n",
       "    <tr style=\"text-align: right;\">\n",
       "      <th></th>\n",
       "      <th>2401</th>\n",
       "      <th>Borderlands</th>\n",
       "      <th>Positive</th>\n",
       "      <th>im getting on borderlands and i will murder you all ,</th>\n",
       "    </tr>\n",
       "  </thead>\n",
       "  <tbody>\n",
       "    <tr>\n",
       "      <th>0</th>\n",
       "      <td>2401</td>\n",
       "      <td>Borderlands</td>\n",
       "      <td>Positive</td>\n",
       "      <td>I am coming to the borders and I will kill you...</td>\n",
       "    </tr>\n",
       "    <tr>\n",
       "      <th>1</th>\n",
       "      <td>2401</td>\n",
       "      <td>Borderlands</td>\n",
       "      <td>Positive</td>\n",
       "      <td>im getting on borderlands and i will kill you ...</td>\n",
       "    </tr>\n",
       "    <tr>\n",
       "      <th>2</th>\n",
       "      <td>2401</td>\n",
       "      <td>Borderlands</td>\n",
       "      <td>Positive</td>\n",
       "      <td>im coming on borderlands and i will murder you...</td>\n",
       "    </tr>\n",
       "    <tr>\n",
       "      <th>3</th>\n",
       "      <td>2401</td>\n",
       "      <td>Borderlands</td>\n",
       "      <td>Positive</td>\n",
       "      <td>im getting on borderlands 2 and i will murder ...</td>\n",
       "    </tr>\n",
       "    <tr>\n",
       "      <th>4</th>\n",
       "      <td>2401</td>\n",
       "      <td>Borderlands</td>\n",
       "      <td>Positive</td>\n",
       "      <td>im getting into borderlands and i can murder y...</td>\n",
       "    </tr>\n",
       "  </tbody>\n",
       "</table>\n",
       "</div>"
      ],
      "text/plain": [
       "   2401  Borderlands  Positive  \\\n",
       "0  2401  Borderlands  Positive   \n",
       "1  2401  Borderlands  Positive   \n",
       "2  2401  Borderlands  Positive   \n",
       "3  2401  Borderlands  Positive   \n",
       "4  2401  Borderlands  Positive   \n",
       "\n",
       "  im getting on borderlands and i will murder you all ,  \n",
       "0  I am coming to the borders and I will kill you...     \n",
       "1  im getting on borderlands and i will kill you ...     \n",
       "2  im coming on borderlands and i will murder you...     \n",
       "3  im getting on borderlands 2 and i will murder ...     \n",
       "4  im getting into borderlands and i can murder y...     "
      ]
     },
     "execution_count": 3,
     "metadata": {},
     "output_type": "execute_result"
    }
   ],
   "source": [
    "train.head()"
   ]
  },
  {
   "cell_type": "code",
   "execution_count": 4,
   "id": "6fab1d1c-2bda-4b52-957a-edd8a857987e",
   "metadata": {},
   "outputs": [
    {
     "data": {
      "text/html": [
       "<div>\n",
       "<style scoped>\n",
       "    .dataframe tbody tr th:only-of-type {\n",
       "        vertical-align: middle;\n",
       "    }\n",
       "\n",
       "    .dataframe tbody tr th {\n",
       "        vertical-align: top;\n",
       "    }\n",
       "\n",
       "    .dataframe thead th {\n",
       "        text-align: right;\n",
       "    }\n",
       "</style>\n",
       "<table border=\"1\" class=\"dataframe\">\n",
       "  <thead>\n",
       "    <tr style=\"text-align: right;\">\n",
       "      <th></th>\n",
       "      <th>3364</th>\n",
       "      <th>Facebook</th>\n",
       "      <th>Irrelevant</th>\n",
       "      <th>I mentioned on Facebook that I was struggling for motivation to go for a run the other day, which has been translated by Tom’s great auntie as ‘Hayley can’t get out of bed’ and told to his grandma, who now thinks I’m a lazy, terrible person 🤣</th>\n",
       "    </tr>\n",
       "  </thead>\n",
       "  <tbody>\n",
       "    <tr>\n",
       "      <th>0</th>\n",
       "      <td>352</td>\n",
       "      <td>Amazon</td>\n",
       "      <td>Neutral</td>\n",
       "      <td>BBC News - Amazon boss Jeff Bezos rejects clai...</td>\n",
       "    </tr>\n",
       "    <tr>\n",
       "      <th>1</th>\n",
       "      <td>8312</td>\n",
       "      <td>Microsoft</td>\n",
       "      <td>Negative</td>\n",
       "      <td>@Microsoft Why do I pay for WORD when it funct...</td>\n",
       "    </tr>\n",
       "    <tr>\n",
       "      <th>2</th>\n",
       "      <td>4371</td>\n",
       "      <td>CS-GO</td>\n",
       "      <td>Negative</td>\n",
       "      <td>CSGO matchmaking is so full of closet hacking,...</td>\n",
       "    </tr>\n",
       "    <tr>\n",
       "      <th>3</th>\n",
       "      <td>4433</td>\n",
       "      <td>Google</td>\n",
       "      <td>Neutral</td>\n",
       "      <td>Now the President is slapping Americans in the...</td>\n",
       "    </tr>\n",
       "    <tr>\n",
       "      <th>4</th>\n",
       "      <td>6273</td>\n",
       "      <td>FIFA</td>\n",
       "      <td>Negative</td>\n",
       "      <td>Hi @EAHelp I’ve had Madeleine McCann in my cel...</td>\n",
       "    </tr>\n",
       "  </tbody>\n",
       "</table>\n",
       "</div>"
      ],
      "text/plain": [
       "   3364   Facebook Irrelevant  \\\n",
       "0   352     Amazon    Neutral   \n",
       "1  8312  Microsoft   Negative   \n",
       "2  4371      CS-GO   Negative   \n",
       "3  4433     Google    Neutral   \n",
       "4  6273       FIFA   Negative   \n",
       "\n",
       "  I mentioned on Facebook that I was struggling for motivation to go for a run the other day, which has been translated by Tom’s great auntie as ‘Hayley can’t get out of bed’ and told to his grandma, who now thinks I’m a lazy, terrible person 🤣  \n",
       "0  BBC News - Amazon boss Jeff Bezos rejects clai...                                                                                                                                                                                                  \n",
       "1  @Microsoft Why do I pay for WORD when it funct...                                                                                                                                                                                                  \n",
       "2  CSGO matchmaking is so full of closet hacking,...                                                                                                                                                                                                  \n",
       "3  Now the President is slapping Americans in the...                                                                                                                                                                                                  \n",
       "4  Hi @EAHelp I’ve had Madeleine McCann in my cel...                                                                                                                                                                                                  "
      ]
     },
     "execution_count": 4,
     "metadata": {},
     "output_type": "execute_result"
    }
   ],
   "source": [
    "test.head()"
   ]
  },
  {
   "cell_type": "code",
   "execution_count": 5,
   "id": "b352213b-9c8b-4c86-b1e8-9d6867fb039c",
   "metadata": {},
   "outputs": [],
   "source": [
    "test.columns = ['Header1', 'company','labels','text']\n",
    "train.columns = ['Header1', 'company','labels','text']"
   ]
  },
  {
   "cell_type": "code",
   "execution_count": 6,
   "id": "1abd15fc-3b8a-463c-9907-1485fa5d5022",
   "metadata": {},
   "outputs": [
    {
     "name": "stdout",
     "output_type": "stream",
     "text": [
      "       Header1      company    labels  \\\n",
      "0         2401  Borderlands  Positive   \n",
      "1         2401  Borderlands  Positive   \n",
      "2         2401  Borderlands  Positive   \n",
      "3         2401  Borderlands  Positive   \n",
      "4         2401  Borderlands  Positive   \n",
      "...        ...          ...       ...   \n",
      "74676     9200       Nvidia  Positive   \n",
      "74677     9200       Nvidia  Positive   \n",
      "74678     9200       Nvidia  Positive   \n",
      "74679     9200       Nvidia  Positive   \n",
      "74680     9200       Nvidia  Positive   \n",
      "\n",
      "                                                    text  \n",
      "0      I am coming to the borders and I will kill you...  \n",
      "1      im getting on borderlands and i will kill you ...  \n",
      "2      im coming on borderlands and i will murder you...  \n",
      "3      im getting on borderlands 2 and i will murder ...  \n",
      "4      im getting into borderlands and i can murder y...  \n",
      "...                                                  ...  \n",
      "74676  Just realized that the Windows partition of my...  \n",
      "74677  Just realized that my Mac window partition is ...  \n",
      "74678  Just realized the windows partition of my Mac ...  \n",
      "74679  Just realized between the windows partition of...  \n",
      "74680  Just like the windows partition of my Mac is l...  \n",
      "\n",
      "[74681 rows x 4 columns]\n"
     ]
    }
   ],
   "source": [
    "print(train)"
   ]
  },
  {
   "cell_type": "code",
   "execution_count": 7,
   "id": "f44aeeb0-27bf-43a7-86b5-d231a8e8e4f2",
   "metadata": {},
   "outputs": [
    {
     "name": "stdout",
     "output_type": "stream",
     "text": [
      "     Header1              company      labels  \\\n",
      "0        352               Amazon     Neutral   \n",
      "1       8312            Microsoft    Negative   \n",
      "2       4371                CS-GO    Negative   \n",
      "3       4433               Google     Neutral   \n",
      "4       6273                 FIFA    Negative   \n",
      "..       ...                  ...         ...   \n",
      "994     4891  GrandTheftAuto(GTA)  Irrelevant   \n",
      "995     4359                CS-GO  Irrelevant   \n",
      "996     2652          Borderlands    Positive   \n",
      "997     8069            Microsoft    Positive   \n",
      "998     6960      johnson&johnson     Neutral   \n",
      "\n",
      "                                                  text  \n",
      "0    BBC News - Amazon boss Jeff Bezos rejects clai...  \n",
      "1    @Microsoft Why do I pay for WORD when it funct...  \n",
      "2    CSGO matchmaking is so full of closet hacking,...  \n",
      "3    Now the President is slapping Americans in the...  \n",
      "4    Hi @EAHelp I’ve had Madeleine McCann in my cel...  \n",
      "..                                                 ...  \n",
      "994  ⭐️ Toronto is the arts and culture capital of ...  \n",
      "995  tHIS IS ACTUALLY A GOOD MOVE TOT BRING MORE VI...  \n",
      "996  Today sucked so it’s time to drink wine n play...  \n",
      "997  Bought a fraction of Microsoft today. Small wins.  \n",
      "998  Johnson & Johnson to stop selling talc baby po...  \n",
      "\n",
      "[999 rows x 4 columns]\n"
     ]
    }
   ],
   "source": [
    "print(test)"
   ]
  },
  {
   "cell_type": "code",
   "execution_count": 8,
   "id": "b82dee63-7786-4f11-9133-4f4353d7d767",
   "metadata": {},
   "outputs": [],
   "source": [
    "#let's drop unneeded columns:\n",
    "train.drop(columns=[\"Header1\",\"company\"],inplace=True)\n",
    "test.drop(columns=[\"Header1\",\"company\"],inplace=True)"
   ]
  },
  {
   "cell_type": "code",
   "execution_count": 9,
   "id": "b98f9657-413f-4460-81c7-ae623741425c",
   "metadata": {},
   "outputs": [
    {
     "data": {
      "text/html": [
       "<div>\n",
       "<style scoped>\n",
       "    .dataframe tbody tr th:only-of-type {\n",
       "        vertical-align: middle;\n",
       "    }\n",
       "\n",
       "    .dataframe tbody tr th {\n",
       "        vertical-align: top;\n",
       "    }\n",
       "\n",
       "    .dataframe thead th {\n",
       "        text-align: right;\n",
       "    }\n",
       "</style>\n",
       "<table border=\"1\" class=\"dataframe\">\n",
       "  <thead>\n",
       "    <tr style=\"text-align: right;\">\n",
       "      <th></th>\n",
       "      <th>labels</th>\n",
       "      <th>text</th>\n",
       "    </tr>\n",
       "  </thead>\n",
       "  <tbody>\n",
       "    <tr>\n",
       "      <th>0</th>\n",
       "      <td>Positive</td>\n",
       "      <td>I am coming to the borders and I will kill you...</td>\n",
       "    </tr>\n",
       "    <tr>\n",
       "      <th>1</th>\n",
       "      <td>Positive</td>\n",
       "      <td>im getting on borderlands and i will kill you ...</td>\n",
       "    </tr>\n",
       "    <tr>\n",
       "      <th>2</th>\n",
       "      <td>Positive</td>\n",
       "      <td>im coming on borderlands and i will murder you...</td>\n",
       "    </tr>\n",
       "    <tr>\n",
       "      <th>3</th>\n",
       "      <td>Positive</td>\n",
       "      <td>im getting on borderlands 2 and i will murder ...</td>\n",
       "    </tr>\n",
       "    <tr>\n",
       "      <th>4</th>\n",
       "      <td>Positive</td>\n",
       "      <td>im getting into borderlands and i can murder y...</td>\n",
       "    </tr>\n",
       "  </tbody>\n",
       "</table>\n",
       "</div>"
      ],
      "text/plain": [
       "     labels                                               text\n",
       "0  Positive  I am coming to the borders and I will kill you...\n",
       "1  Positive  im getting on borderlands and i will kill you ...\n",
       "2  Positive  im coming on borderlands and i will murder you...\n",
       "3  Positive  im getting on borderlands 2 and i will murder ...\n",
       "4  Positive  im getting into borderlands and i can murder y..."
      ]
     },
     "execution_count": 9,
     "metadata": {},
     "output_type": "execute_result"
    }
   ],
   "source": [
    "train.head()"
   ]
  },
  {
   "cell_type": "code",
   "execution_count": 10,
   "id": "5be899fc-8265-4b60-8d8e-e5a5f6b5d282",
   "metadata": {},
   "outputs": [
    {
     "data": {
      "text/html": [
       "<div>\n",
       "<style scoped>\n",
       "    .dataframe tbody tr th:only-of-type {\n",
       "        vertical-align: middle;\n",
       "    }\n",
       "\n",
       "    .dataframe tbody tr th {\n",
       "        vertical-align: top;\n",
       "    }\n",
       "\n",
       "    .dataframe thead th {\n",
       "        text-align: right;\n",
       "    }\n",
       "</style>\n",
       "<table border=\"1\" class=\"dataframe\">\n",
       "  <thead>\n",
       "    <tr style=\"text-align: right;\">\n",
       "      <th></th>\n",
       "      <th>labels</th>\n",
       "      <th>text</th>\n",
       "    </tr>\n",
       "  </thead>\n",
       "  <tbody>\n",
       "    <tr>\n",
       "      <th>0</th>\n",
       "      <td>Neutral</td>\n",
       "      <td>BBC News - Amazon boss Jeff Bezos rejects clai...</td>\n",
       "    </tr>\n",
       "    <tr>\n",
       "      <th>1</th>\n",
       "      <td>Negative</td>\n",
       "      <td>@Microsoft Why do I pay for WORD when it funct...</td>\n",
       "    </tr>\n",
       "    <tr>\n",
       "      <th>2</th>\n",
       "      <td>Negative</td>\n",
       "      <td>CSGO matchmaking is so full of closet hacking,...</td>\n",
       "    </tr>\n",
       "    <tr>\n",
       "      <th>3</th>\n",
       "      <td>Neutral</td>\n",
       "      <td>Now the President is slapping Americans in the...</td>\n",
       "    </tr>\n",
       "    <tr>\n",
       "      <th>4</th>\n",
       "      <td>Negative</td>\n",
       "      <td>Hi @EAHelp I’ve had Madeleine McCann in my cel...</td>\n",
       "    </tr>\n",
       "  </tbody>\n",
       "</table>\n",
       "</div>"
      ],
      "text/plain": [
       "     labels                                               text\n",
       "0   Neutral  BBC News - Amazon boss Jeff Bezos rejects clai...\n",
       "1  Negative  @Microsoft Why do I pay for WORD when it funct...\n",
       "2  Negative  CSGO matchmaking is so full of closet hacking,...\n",
       "3   Neutral  Now the President is slapping Americans in the...\n",
       "4  Negative  Hi @EAHelp I’ve had Madeleine McCann in my cel..."
      ]
     },
     "execution_count": 10,
     "metadata": {},
     "output_type": "execute_result"
    }
   ],
   "source": [
    "test.head()"
   ]
  },
  {
   "cell_type": "code",
   "execution_count": 11,
   "id": "7c5a9ef4-472d-4d2b-aa5d-04aa035fb030",
   "metadata": {},
   "outputs": [
    {
     "data": {
      "text/html": [
       "<div>\n",
       "<style scoped>\n",
       "    .dataframe tbody tr th:only-of-type {\n",
       "        vertical-align: middle;\n",
       "    }\n",
       "\n",
       "    .dataframe tbody tr th {\n",
       "        vertical-align: top;\n",
       "    }\n",
       "\n",
       "    .dataframe thead th {\n",
       "        text-align: right;\n",
       "    }\n",
       "</style>\n",
       "<table border=\"1\" class=\"dataframe\">\n",
       "  <thead>\n",
       "    <tr style=\"text-align: right;\">\n",
       "      <th></th>\n",
       "      <th>labels</th>\n",
       "      <th>text</th>\n",
       "    </tr>\n",
       "  </thead>\n",
       "  <tbody>\n",
       "    <tr>\n",
       "      <th>0</th>\n",
       "      <td>Positive</td>\n",
       "      <td>I am coming to the borders and I will kill you...</td>\n",
       "    </tr>\n",
       "    <tr>\n",
       "      <th>1</th>\n",
       "      <td>Positive</td>\n",
       "      <td>im getting on borderlands and i will kill you ...</td>\n",
       "    </tr>\n",
       "    <tr>\n",
       "      <th>2</th>\n",
       "      <td>Positive</td>\n",
       "      <td>im coming on borderlands and i will murder you...</td>\n",
       "    </tr>\n",
       "    <tr>\n",
       "      <th>3</th>\n",
       "      <td>Positive</td>\n",
       "      <td>im getting on borderlands 2 and i will murder ...</td>\n",
       "    </tr>\n",
       "    <tr>\n",
       "      <th>4</th>\n",
       "      <td>Positive</td>\n",
       "      <td>im getting into borderlands and i can murder y...</td>\n",
       "    </tr>\n",
       "    <tr>\n",
       "      <th>...</th>\n",
       "      <td>...</td>\n",
       "      <td>...</td>\n",
       "    </tr>\n",
       "    <tr>\n",
       "      <th>75675</th>\n",
       "      <td>Irrelevant</td>\n",
       "      <td>⭐️ Toronto is the arts and culture capital of ...</td>\n",
       "    </tr>\n",
       "    <tr>\n",
       "      <th>75676</th>\n",
       "      <td>Irrelevant</td>\n",
       "      <td>tHIS IS ACTUALLY A GOOD MOVE TOT BRING MORE VI...</td>\n",
       "    </tr>\n",
       "    <tr>\n",
       "      <th>75677</th>\n",
       "      <td>Positive</td>\n",
       "      <td>Today sucked so it’s time to drink wine n play...</td>\n",
       "    </tr>\n",
       "    <tr>\n",
       "      <th>75678</th>\n",
       "      <td>Positive</td>\n",
       "      <td>Bought a fraction of Microsoft today. Small wins.</td>\n",
       "    </tr>\n",
       "    <tr>\n",
       "      <th>75679</th>\n",
       "      <td>Neutral</td>\n",
       "      <td>Johnson &amp; Johnson to stop selling talc baby po...</td>\n",
       "    </tr>\n",
       "  </tbody>\n",
       "</table>\n",
       "<p>75680 rows × 2 columns</p>\n",
       "</div>"
      ],
      "text/plain": [
       "           labels                                               text\n",
       "0        Positive  I am coming to the borders and I will kill you...\n",
       "1        Positive  im getting on borderlands and i will kill you ...\n",
       "2        Positive  im coming on borderlands and i will murder you...\n",
       "3        Positive  im getting on borderlands 2 and i will murder ...\n",
       "4        Positive  im getting into borderlands and i can murder y...\n",
       "...           ...                                                ...\n",
       "75675  Irrelevant  ⭐️ Toronto is the arts and culture capital of ...\n",
       "75676  Irrelevant  tHIS IS ACTUALLY A GOOD MOVE TOT BRING MORE VI...\n",
       "75677    Positive  Today sucked so it’s time to drink wine n play...\n",
       "75678    Positive  Bought a fraction of Microsoft today. Small wins.\n",
       "75679     Neutral  Johnson & Johnson to stop selling talc baby po...\n",
       "\n",
       "[75680 rows x 2 columns]"
      ]
     },
     "execution_count": 11,
     "metadata": {},
     "output_type": "execute_result"
    }
   ],
   "source": [
    "#let's create one data frame:\n",
    "sentiment=pd.concat([train,test],ignore_index=True)\n",
    "sentiment"
   ]
  },
  {
   "cell_type": "code",
   "execution_count": 12,
   "id": "3e7775c8-9445-4fe3-a5bd-2f01a858bbd3",
   "metadata": {},
   "outputs": [
    {
     "name": "stdout",
     "output_type": "stream",
     "text": [
      "<class 'pandas.core.frame.DataFrame'>\n",
      "RangeIndex: 75680 entries, 0 to 75679\n",
      "Data columns (total 2 columns):\n",
      " #   Column  Non-Null Count  Dtype \n",
      "---  ------  --------------  ----- \n",
      " 0   labels  75680 non-null  object\n",
      " 1   text    74994 non-null  object\n",
      "dtypes: object(2)\n",
      "memory usage: 1.2+ MB\n"
     ]
    }
   ],
   "source": [
    "sentiment.info()"
   ]
  },
  {
   "cell_type": "code",
   "execution_count": 13,
   "id": "2d96b489-6fff-4f35-801b-cfd543b6923d",
   "metadata": {},
   "outputs": [
    {
     "data": {
      "text/plain": [
       "labels      0\n",
       "text      686\n",
       "dtype: int64"
      ]
     },
     "execution_count": 13,
     "metadata": {},
     "output_type": "execute_result"
    }
   ],
   "source": [
    "sentiment.isnull().sum()"
   ]
  },
  {
   "cell_type": "code",
   "execution_count": 14,
   "id": "bc988a6a-469c-4ace-a33c-8bb3a6cb3561",
   "metadata": {},
   "outputs": [
    {
     "data": {
      "text/plain": [
       "labels    0\n",
       "text      0\n",
       "dtype: int64"
      ]
     },
     "execution_count": 14,
     "metadata": {},
     "output_type": "execute_result"
    }
   ],
   "source": [
    "#let's drop the null values:\n",
    "sentiment.dropna(inplace=True)\n",
    "sentiment.isnull().sum()"
   ]
  },
  {
   "cell_type": "code",
   "execution_count": 15,
   "id": "10ba7730-6429-44fe-a014-33e1a8962f44",
   "metadata": {},
   "outputs": [
    {
     "data": {
      "text/plain": [
       "4743"
      ]
     },
     "execution_count": 15,
     "metadata": {},
     "output_type": "execute_result"
    }
   ],
   "source": [
    "sentiment.duplicated().sum()"
   ]
  },
  {
   "cell_type": "code",
   "execution_count": 16,
   "id": "abb1f9b7-a188-4ed0-a96a-3dbfeb5faed8",
   "metadata": {},
   "outputs": [
    {
     "data": {
      "text/plain": [
       "0"
      ]
     },
     "execution_count": 16,
     "metadata": {},
     "output_type": "execute_result"
    }
   ],
   "source": [
    "#let's drop duplicated values also:\n",
    "sentiment.drop_duplicates(inplace=True)\n",
    "sentiment.duplicated().sum()"
   ]
  },
  {
   "cell_type": "markdown",
   "id": "eeeb3bc4-2c1a-406f-9aa7-480593d1c1b5",
   "metadata": {},
   "source": [
    "***Let's preprocess the texts now:***"
   ]
  },
  {
   "cell_type": "code",
   "execution_count": 17,
   "id": "0a5da7db-af8a-44b8-8453-a480b999d0ee",
   "metadata": {},
   "outputs": [
    {
     "name": "stdout",
     "output_type": "stream",
     "text": [
      "Requirement already satisfied: nltk in c:\\users\\dima d'origine\\appdata\\local\\programs\\python\\python311\\lib\\site-packages (3.8.1)\n",
      "Requirement already satisfied: click in c:\\users\\dima d'origine\\appdata\\local\\programs\\python\\python311\\lib\\site-packages (from nltk) (8.1.7)\n",
      "Requirement already satisfied: joblib in c:\\users\\dima d'origine\\appdata\\local\\programs\\python\\python311\\lib\\site-packages (from nltk) (1.3.2)\n",
      "Requirement already satisfied: regex>=2021.8.3 in c:\\users\\dima d'origine\\appdata\\local\\programs\\python\\python311\\lib\\site-packages (from nltk) (2024.5.15)\n",
      "Requirement already satisfied: tqdm in c:\\users\\dima d'origine\\appdata\\local\\programs\\python\\python311\\lib\\site-packages (from nltk) (4.66.4)\n",
      "Requirement already satisfied: colorama in c:\\users\\dima d'origine\\appdata\\local\\programs\\python\\python311\\lib\\site-packages (from click->nltk) (0.4.6)\n",
      "Note: you may need to restart the kernel to use updated packages.\n"
     ]
    }
   ],
   "source": [
    "pip install nltk"
   ]
  },
  {
   "cell_type": "code",
   "execution_count": 24,
   "id": "522553db-76df-426c-9d5b-eb6e2d091744",
   "metadata": {},
   "outputs": [
    {
     "name": "stderr",
     "output_type": "stream",
     "text": [
      "[nltk_data] Downloading package wordnet to\n",
      "[nltk_data]     /kaggle/working/nltk_data/...\n",
      "[nltk_data]   Package wordnet is already up-to-date!\n",
      "[nltk_data] Downloading package omw-1.4 to\n",
      "[nltk_data]     /kaggle/working/nltk_data/...\n",
      "[nltk_data]   Package omw-1.4 is already up-to-date!\n",
      "[nltk_data] Downloading package stopwords to\n",
      "[nltk_data]     /kaggle/working/nltk_data/...\n",
      "[nltk_data]   Unzipping corpora\\stopwords.zip.\n",
      "[nltk_data] Downloading package punkt to /kaggle/working/nltk_data/...\n",
      "[nltk_data]   Unzipping tokenizers\\punkt.zip.\n"
     ]
    }
   ],
   "source": [
    "import re\n",
    "import nltk\n",
    "from nltk.tokenize import word_tokenize\n",
    "from nltk.corpus import stopwords\n",
    "from nltk.stem import WordNetLemmatizer\n",
    "import numpy as np\n",
    "\n",
    "# Télécharger les ressources nécessaires\n",
    "nltk.download('wordnet', download_dir='/kaggle/working/nltk_data/')\n",
    "nltk.download('omw-1.4', download_dir='/kaggle/working/nltk_data/')\n",
    "nltk.download('stopwords', download_dir='/kaggle/working/nltk_data/')\n",
    "nltk.download('punkt', download_dir='/kaggle/working/nltk_data/')\n",
    "\n",
    "# Ajouter le chemin pour nltk_data\n",
    "nltk.data.path.append('/kaggle/working/nltk_data/')\n"
   ]
  },
  {
   "cell_type": "code",
   "execution_count": 26,
   "id": "cf924561-b6c5-473c-92eb-5a02686673ed",
   "metadata": {},
   "outputs": [],
   "source": [
    "# Fonction pour nettoyer le texte\n",
    "def process_text(text):\n",
    "    # Remove extra white space from text\n",
    "    text = re.sub(r'\\s+', ' ', text, flags=re.I)\n",
    "    \n",
    "    # Remove all the special characters from text\n",
    "    text = re.sub(r'\\W', ' ', str(text))\n",
    "    \n",
    "    # Remove all single characters from text\n",
    "    text = re.sub(r'\\s+[a-zA-Z]\\s+', ' ', text)\n",
    "    \n",
    "    # Remove any character that isn't alphabetical\n",
    "    text = re.sub(r'[^a-zA-Z\\s]', '', text)\n",
    "    \n",
    "    # Convert text to lower case\n",
    "    text = text.lower()\n",
    "    \n",
    "    # Tokenize the text\n",
    "    words = word_tokenize(text)\n",
    "    \n",
    "    # Lemmatize the words\n",
    "    lemmatizer = WordNetLemmatizer()\n",
    "    words = [lemmatizer.lemmatize(word) for word in words]\n",
    "    \n",
    "    # Remove stop words\n",
    "    stop_words = set(stopwords.words('english'))\n",
    "    words = [word for word in words if word not in stop_words]\n",
    "    \n",
    "    # Remove words with length <= 3\n",
    "    words = [word for word in words if len(word) > 3]\n",
    "    \n",
    "    # Remove duplicate words while preserving order\n",
    "    indices = np.unique(words, return_index=True)[1]\n",
    "    cleaned_text = np.array(words)[np.sort(indices)].tolist()\n",
    "    \n",
    "    return cleaned_text"
   ]
  },
  {
   "cell_type": "code",
   "execution_count": 27,
   "id": "28835152-61fe-4b2f-a725-537aa2f48e66",
   "metadata": {},
   "outputs": [],
   "source": [
    "x=sentiment.drop('labels',axis=1)\n",
    "y=sentiment.labels"
   ]
  },
  {
   "cell_type": "code",
   "execution_count": 28,
   "id": "9a129887-51fb-44b4-9eff-e267988efcdd",
   "metadata": {},
   "outputs": [],
   "source": [
    "texts=list(x['text'])"
   ]
  },
  {
   "cell_type": "code",
   "execution_count": 29,
   "id": "27d45bd9-aa16-450e-93c9-34a0a7ea1309",
   "metadata": {},
   "outputs": [],
   "source": [
    "cleaned_text = [process_text(text) for text in texts]"
   ]
  },
  {
   "cell_type": "code",
   "execution_count": 31,
   "id": "a590173e-fb4d-49a1-953b-3c9769126b67",
   "metadata": {},
   "outputs": [
    {
     "name": "stdout",
     "output_type": "stream",
     "text": [
      "[['coming', 'border', 'kill'], ['getting', 'borderland', 'kill'], ['coming', 'borderland', 'murder'], ['getting', 'borderland', 'murder'], ['getting', 'borderland', 'murder'], ['spent', 'hour', 'making', 'something', 'know', 'huge', 'borderland', 'maya', 'favorite', 'character', 'decided', 'make', 'wallpaper', 'original', 'image', 'versus', 'creation', 'made', 'enjoy', 'twitter', 'mlsiwfjg'], ['spent', 'couple', 'hour', 'something', 'know', 'huge', 'borderland', 'maya', 'favorite', 'character', 'decided', 'make', 'wallpaper', 'original', 'picture', 'compared', 'creation', 'made', 'twitter', 'mlsiwfjg'], ['spent', 'hour', 'something', 'know', 'huge', 'borderland', 'maya', 'favorite', 'character'], ['spent', 'hour', 'making', 'something', 'know', 'huge', 'rhandlerr', 'maya', 'favorite', 'character', 'decided', 'make', 'wallpaper', 'original', 'image', 'versus', 'creation', 'made', 'enjoy', 'twitter', 'mlsiwfjg'], ['spent', 'hour', 'making', 'something', 'know', 'huge', 'rhandlerr', 'maya', 'favorite', 'character', 'decided', 'make', 'wallpaper', 'original', 'image', 'versus', 'creation', 'made', 'enjoy', 'twitter', 'mlsiwfjg']]\n"
     ]
    }
   ],
   "source": [
    "print(cleaned_text[:10])"
   ]
  },
  {
   "cell_type": "code",
   "execution_count": 32,
   "id": "c603f58e-b7c5-42ac-8b19-9b1c1e72bd90",
   "metadata": {},
   "outputs": [],
   "source": [
    "#let's split the data:\n",
    "from sklearn.model_selection import train_test_split\n",
    "X_train, X_test, y_train, y_test = train_test_split(cleaned_text, y, test_size=0.2, random_state=42)"
   ]
  },
  {
   "cell_type": "code",
   "execution_count": 33,
   "id": "814d48e5-cbd9-4bcb-9e35-5ce72eba782a",
   "metadata": {},
   "outputs": [
    {
     "name": "stdout",
     "output_type": "stream",
     "text": [
      "the size of vocab = 24048\n"
     ]
    }
   ],
   "source": [
    "from tensorflow.keras.preprocessing.text import Tokenizer\n",
    "from tensorflow.keras.preprocessing.sequence import pad_sequences\n",
    "\n",
    "max_vocab = 40000\n",
    "tokenizer = Tokenizer(num_words=max_vocab)\n",
    "tokenizer.fit_on_texts(X_train)\n",
    "word_idx = tokenizer.word_index  # Corrected syntax for accessing word index\n",
    "v = len(word_idx)\n",
    "print(\"the size of vocab =\", v)  # Corrected spacing\n",
    "X_train = tokenizer.texts_to_sequences(X_train)\n",
    "X_test = tokenizer.texts_to_sequences(X_test)"
   ]
  },
  {
   "cell_type": "code",
   "execution_count": 34,
   "id": "46a26adc-273f-4ac4-b9f9-a0009d9d572f",
   "metadata": {},
   "outputs": [],
   "source": [
    "from tensorflow.keras.preprocessing.sequence import pad_sequences\n",
    "\n",
    "maxlen = 100\n",
    "X_train = pad_sequences(X_train,maxlen=maxlen)\n",
    "X_test = pad_sequences(X_test,maxlen=maxlen)"
   ]
  },
  {
   "cell_type": "code",
   "execution_count": 35,
   "id": "1de58683-2a3b-4c0b-84cd-486123cc8ae2",
   "metadata": {},
   "outputs": [
    {
     "data": {
      "text/plain": [
       "labels\n",
       "Negative      21329\n",
       "Positive      19270\n",
       "Neutral       17281\n",
       "Irrelevant    12371\n",
       "Name: count, dtype: int64"
      ]
     },
     "execution_count": 35,
     "metadata": {},
     "output_type": "execute_result"
    }
   ],
   "source": [
    "y.value_counts()"
   ]
  },
  {
   "cell_type": "markdown",
   "id": "57d34fd8-1c9d-410e-8abd-adc521fee6f2",
   "metadata": {},
   "source": [
    "***The Model***"
   ]
  },
  {
   "cell_type": "code",
   "execution_count": 36,
   "id": "9dfb5002-0bab-4276-af20-ca04613d0951",
   "metadata": {},
   "outputs": [],
   "source": [
    "from keras.models import Sequential\n",
    "from keras.layers import Embedding, GRU, Dense,Input,GlobalMaxPooling1D,Dropout,Bidirectional\n",
    "from tensorflow.keras.models import Model\n",
    "from keras import optimizers\n",
    "import numpy as np\n",
    "D=100\n",
    "inputt=Input(shape=(maxlen,))"
   ]
  },
  {
   "cell_type": "code",
   "execution_count": 37,
   "id": "4a4de19d-cb75-4bd7-a8fd-be550ec11b6c",
   "metadata": {},
   "outputs": [],
   "source": [
    "from tensorflow.keras.optimizers import Adam\n",
    "learning_rate = 0.0001  # Set your desired learning rate here\n",
    "x=Embedding(v+1,D)(inputt)\n",
    "x = Dropout(0.5)(x)\n",
    "x = Bidirectional(GRU(200))(x)\n",
    "x = Dense(32, activation='relu')(x)\n",
    "x = Dense(4, activation='softmax')(x)\n",
    "\n",
    "model = Model(inputt, x)\n",
    "\n",
    "# Define optimizer with specified learning rate\n",
    "optimizer = Adam(learning_rate=learning_rate)\n",
    "\n",
    "model.compile(optimizer=optimizer, loss='categorical_crossentropy', metrics=['accuracy'])"
   ]
  },
  {
   "cell_type": "code",
   "execution_count": 38,
   "id": "8f1066be-4fc9-44c0-a5c0-9f565c2e5d15",
   "metadata": {},
   "outputs": [],
   "source": [
    "from sklearn.preprocessing import LabelEncoder\n",
    "\n",
    "label_encoder = LabelEncoder()\n",
    "y_train_encoded = label_encoder.fit_transform(y_train)\n",
    "y_test_encoded = label_encoder.transform(y_test)"
   ]
  },
  {
   "cell_type": "code",
   "execution_count": 39,
   "id": "84d015c3-0882-400a-8e4b-3f45125b1a56",
   "metadata": {},
   "outputs": [
    {
     "name": "stdout",
     "output_type": "stream",
     "text": [
      "Epoch 1/40\n",
      "\u001b[1m1757/1757\u001b[0m \u001b[32m━━━━━━━━━━━━━━━━━━━━\u001b[0m\u001b[37m\u001b[0m \u001b[1m359s\u001b[0m 197ms/step - accuracy: 0.3789 - loss: 1.3083 - val_accuracy: 0.5997 - val_loss: 1.0058\n",
      "Epoch 2/40\n",
      "\u001b[1m1757/1757\u001b[0m \u001b[32m━━━━━━━━━━━━━━━━━━━━\u001b[0m\u001b[37m\u001b[0m \u001b[1m317s\u001b[0m 180ms/step - accuracy: 0.6171 - loss: 0.9372 - val_accuracy: 0.6943 - val_loss: 0.7922\n",
      "Epoch 3/40\n",
      "\u001b[1m1757/1757\u001b[0m \u001b[32m━━━━━━━━━━━━━━━━━━━━\u001b[0m\u001b[37m\u001b[0m \u001b[1m329s\u001b[0m 187ms/step - accuracy: 0.7246 - loss: 0.7154 - val_accuracy: 0.7652 - val_loss: 0.6283\n",
      "Epoch 4/40\n",
      "\u001b[1m1757/1757\u001b[0m \u001b[32m━━━━━━━━━━━━━━━━━━━━\u001b[0m\u001b[37m\u001b[0m \u001b[1m298s\u001b[0m 170ms/step - accuracy: 0.7885 - loss: 0.5573 - val_accuracy: 0.7994 - val_loss: 0.5390\n",
      "Epoch 5/40\n",
      "\u001b[1m1757/1757\u001b[0m \u001b[32m━━━━━━━━━━━━━━━━━━━━\u001b[0m\u001b[37m\u001b[0m \u001b[1m299s\u001b[0m 170ms/step - accuracy: 0.8268 - loss: 0.4650 - val_accuracy: 0.8192 - val_loss: 0.4864\n",
      "Epoch 6/40\n",
      "\u001b[1m1757/1757\u001b[0m \u001b[32m━━━━━━━━━━━━━━━━━━━━\u001b[0m\u001b[37m\u001b[0m \u001b[1m303s\u001b[0m 172ms/step - accuracy: 0.8472 - loss: 0.4093 - val_accuracy: 0.8291 - val_loss: 0.4543\n",
      "Epoch 7/40\n",
      "\u001b[1m1757/1757\u001b[0m \u001b[32m━━━━━━━━━━━━━━━━━━━━\u001b[0m\u001b[37m\u001b[0m \u001b[1m306s\u001b[0m 174ms/step - accuracy: 0.8644 - loss: 0.3668 - val_accuracy: 0.8361 - val_loss: 0.4337\n",
      "Epoch 8/40\n",
      "\u001b[1m1757/1757\u001b[0m \u001b[32m━━━━━━━━━━━━━━━━━━━━\u001b[0m\u001b[37m\u001b[0m \u001b[1m278s\u001b[0m 158ms/step - accuracy: 0.8734 - loss: 0.3344 - val_accuracy: 0.8464 - val_loss: 0.4128\n",
      "Epoch 9/40\n",
      "\u001b[1m1757/1757\u001b[0m \u001b[32m━━━━━━━━━━━━━━━━━━━━\u001b[0m\u001b[37m\u001b[0m \u001b[1m270s\u001b[0m 154ms/step - accuracy: 0.8838 - loss: 0.3073 - val_accuracy: 0.8513 - val_loss: 0.4027\n",
      "Epoch 10/40\n",
      "\u001b[1m1757/1757\u001b[0m \u001b[32m━━━━━━━━━━━━━━━━━━━━\u001b[0m\u001b[37m\u001b[0m \u001b[1m280s\u001b[0m 159ms/step - accuracy: 0.8910 - loss: 0.2862 - val_accuracy: 0.8589 - val_loss: 0.3863\n",
      "Epoch 11/40\n",
      "\u001b[1m1757/1757\u001b[0m \u001b[32m━━━━━━━━━━━━━━━━━━━━\u001b[0m\u001b[37m\u001b[0m \u001b[1m266s\u001b[0m 151ms/step - accuracy: 0.8997 - loss: 0.2655 - val_accuracy: 0.8644 - val_loss: 0.3759\n",
      "Epoch 12/40\n",
      "\u001b[1m1757/1757\u001b[0m \u001b[32m━━━━━━━━━━━━━━━━━━━━\u001b[0m\u001b[37m\u001b[0m \u001b[1m263s\u001b[0m 150ms/step - accuracy: 0.9044 - loss: 0.2531 - val_accuracy: 0.8642 - val_loss: 0.3732\n",
      "Epoch 13/40\n",
      "\u001b[1m1757/1757\u001b[0m \u001b[32m━━━━━━━━━━━━━━━━━━━━\u001b[0m\u001b[37m\u001b[0m \u001b[1m268s\u001b[0m 153ms/step - accuracy: 0.9110 - loss: 0.2376 - val_accuracy: 0.8683 - val_loss: 0.3717\n",
      "Epoch 14/40\n",
      "\u001b[1m1757/1757\u001b[0m \u001b[32m━━━━━━━━━━━━━━━━━━━━\u001b[0m\u001b[37m\u001b[0m \u001b[1m263s\u001b[0m 149ms/step - accuracy: 0.9153 - loss: 0.2251 - val_accuracy: 0.8698 - val_loss: 0.3650\n",
      "Epoch 15/40\n",
      "\u001b[1m1757/1757\u001b[0m \u001b[32m━━━━━━━━━━━━━━━━━━━━\u001b[0m\u001b[37m\u001b[0m \u001b[1m265s\u001b[0m 151ms/step - accuracy: 0.9206 - loss: 0.2103 - val_accuracy: 0.8698 - val_loss: 0.3655\n",
      "Epoch 16/40\n",
      "\u001b[1m1757/1757\u001b[0m \u001b[32m━━━━━━━━━━━━━━━━━━━━\u001b[0m\u001b[37m\u001b[0m \u001b[1m268s\u001b[0m 153ms/step - accuracy: 0.9225 - loss: 0.2027 - val_accuracy: 0.8719 - val_loss: 0.3689\n",
      "Epoch 17/40\n",
      "\u001b[1m1757/1757\u001b[0m \u001b[32m━━━━━━━━━━━━━━━━━━━━\u001b[0m\u001b[37m\u001b[0m \u001b[1m272s\u001b[0m 155ms/step - accuracy: 0.9250 - loss: 0.1966 - val_accuracy: 0.8752 - val_loss: 0.3654\n",
      "Epoch 18/40\n",
      "\u001b[1m1757/1757\u001b[0m \u001b[32m━━━━━━━━━━━━━━━━━━━━\u001b[0m\u001b[37m\u001b[0m \u001b[1m268s\u001b[0m 152ms/step - accuracy: 0.9296 - loss: 0.1871 - val_accuracy: 0.8765 - val_loss: 0.3666\n",
      "Epoch 19/40\n",
      "\u001b[1m1757/1757\u001b[0m \u001b[32m━━━━━━━━━━━━━━━━━━━━\u001b[0m\u001b[37m\u001b[0m \u001b[1m264s\u001b[0m 150ms/step - accuracy: 0.9304 - loss: 0.1774 - val_accuracy: 0.8786 - val_loss: 0.3597\n",
      "Epoch 20/40\n",
      "\u001b[1m1757/1757\u001b[0m \u001b[32m━━━━━━━━━━━━━━━━━━━━\u001b[0m\u001b[37m\u001b[0m \u001b[1m265s\u001b[0m 151ms/step - accuracy: 0.9331 - loss: 0.1733 - val_accuracy: 0.8819 - val_loss: 0.3621\n",
      "Epoch 21/40\n",
      "\u001b[1m1757/1757\u001b[0m \u001b[32m━━━━━━━━━━━━━━━━━━━━\u001b[0m\u001b[37m\u001b[0m \u001b[1m275s\u001b[0m 156ms/step - accuracy: 0.9374 - loss: 0.1672 - val_accuracy: 0.8811 - val_loss: 0.3622\n",
      "Epoch 22/40\n",
      "\u001b[1m1757/1757\u001b[0m \u001b[32m━━━━━━━━━━━━━━━━━━━━\u001b[0m\u001b[37m\u001b[0m \u001b[1m281s\u001b[0m 160ms/step - accuracy: 0.9396 - loss: 0.1583 - val_accuracy: 0.8828 - val_loss: 0.3637\n",
      "Epoch 23/40\n",
      "\u001b[1m1757/1757\u001b[0m \u001b[32m━━━━━━━━━━━━━━━━━━━━\u001b[0m\u001b[37m\u001b[0m \u001b[1m288s\u001b[0m 164ms/step - accuracy: 0.9398 - loss: 0.1578 - val_accuracy: 0.8816 - val_loss: 0.3836\n",
      "Epoch 24/40\n",
      "\u001b[1m1757/1757\u001b[0m \u001b[32m━━━━━━━━━━━━━━━━━━━━\u001b[0m\u001b[37m\u001b[0m \u001b[1m288s\u001b[0m 164ms/step - accuracy: 0.9411 - loss: 0.1531 - val_accuracy: 0.8829 - val_loss: 0.3722\n",
      "Epoch 25/40\n",
      "\u001b[1m1757/1757\u001b[0m \u001b[32m━━━━━━━━━━━━━━━━━━━━\u001b[0m\u001b[37m\u001b[0m \u001b[1m324s\u001b[0m 185ms/step - accuracy: 0.9412 - loss: 0.1504 - val_accuracy: 0.8849 - val_loss: 0.3664\n",
      "Epoch 26/40\n",
      "\u001b[1m1757/1757\u001b[0m \u001b[32m━━━━━━━━━━━━━━━━━━━━\u001b[0m\u001b[37m\u001b[0m \u001b[1m342s\u001b[0m 195ms/step - accuracy: 0.9443 - loss: 0.1461 - val_accuracy: 0.8834 - val_loss: 0.3736\n",
      "Epoch 27/40\n",
      "\u001b[1m1757/1757\u001b[0m \u001b[32m━━━━━━━━━━━━━━━━━━━━\u001b[0m\u001b[37m\u001b[0m \u001b[1m325s\u001b[0m 185ms/step - accuracy: 0.9475 - loss: 0.1387 - val_accuracy: 0.8861 - val_loss: 0.3752\n",
      "Epoch 28/40\n",
      "\u001b[1m1757/1757\u001b[0m \u001b[32m━━━━━━━━━━━━━━━━━━━━\u001b[0m\u001b[37m\u001b[0m \u001b[1m316s\u001b[0m 180ms/step - accuracy: 0.9467 - loss: 0.1383 - val_accuracy: 0.8846 - val_loss: 0.3825\n",
      "Epoch 29/40\n",
      "\u001b[1m1757/1757\u001b[0m \u001b[32m━━━━━━━━━━━━━━━━━━━━\u001b[0m\u001b[37m\u001b[0m \u001b[1m294s\u001b[0m 168ms/step - accuracy: 0.9488 - loss: 0.1327 - val_accuracy: 0.8862 - val_loss: 0.3951\n",
      "Epoch 30/40\n",
      "\u001b[1m1757/1757\u001b[0m \u001b[32m━━━━━━━━━━━━━━━━━━━━\u001b[0m\u001b[37m\u001b[0m \u001b[1m309s\u001b[0m 176ms/step - accuracy: 0.9493 - loss: 0.1317 - val_accuracy: 0.8881 - val_loss: 0.3828\n",
      "Epoch 31/40\n",
      "\u001b[1m1757/1757\u001b[0m \u001b[32m━━━━━━━━━━━━━━━━━━━━\u001b[0m\u001b[37m\u001b[0m \u001b[1m282s\u001b[0m 160ms/step - accuracy: 0.9505 - loss: 0.1277 - val_accuracy: 0.8866 - val_loss: 0.3903\n",
      "Epoch 32/40\n",
      "\u001b[1m1757/1757\u001b[0m \u001b[32m━━━━━━━━━━━━━━━━━━━━\u001b[0m\u001b[37m\u001b[0m \u001b[1m297s\u001b[0m 169ms/step - accuracy: 0.9516 - loss: 0.1258 - val_accuracy: 0.8873 - val_loss: 0.3849\n",
      "Epoch 33/40\n",
      "\u001b[1m1757/1757\u001b[0m \u001b[32m━━━━━━━━━━━━━━━━━━━━\u001b[0m\u001b[37m\u001b[0m \u001b[1m290s\u001b[0m 165ms/step - accuracy: 0.9525 - loss: 0.1223 - val_accuracy: 0.8885 - val_loss: 0.3827\n",
      "Epoch 34/40\n",
      "\u001b[1m1757/1757\u001b[0m \u001b[32m━━━━━━━━━━━━━━━━━━━━\u001b[0m\u001b[37m\u001b[0m \u001b[1m321s\u001b[0m 164ms/step - accuracy: 0.9521 - loss: 0.1233 - val_accuracy: 0.8878 - val_loss: 0.3933\n",
      "Epoch 35/40\n",
      "\u001b[1m1757/1757\u001b[0m \u001b[32m━━━━━━━━━━━━━━━━━━━━\u001b[0m\u001b[37m\u001b[0m \u001b[1m290s\u001b[0m 165ms/step - accuracy: 0.9526 - loss: 0.1237 - val_accuracy: 0.8879 - val_loss: 0.3945\n",
      "Epoch 36/40\n",
      "\u001b[1m1757/1757\u001b[0m \u001b[32m━━━━━━━━━━━━━━━━━━━━\u001b[0m\u001b[37m\u001b[0m \u001b[1m281s\u001b[0m 160ms/step - accuracy: 0.9514 - loss: 0.1239 - val_accuracy: 0.8883 - val_loss: 0.3922\n",
      "Epoch 37/40\n",
      "\u001b[1m1757/1757\u001b[0m \u001b[32m━━━━━━━━━━━━━━━━━━━━\u001b[0m\u001b[37m\u001b[0m \u001b[1m285s\u001b[0m 162ms/step - accuracy: 0.9549 - loss: 0.1162 - val_accuracy: 0.8896 - val_loss: 0.3932\n",
      "Epoch 38/40\n",
      "\u001b[1m1757/1757\u001b[0m \u001b[32m━━━━━━━━━━━━━━━━━━━━\u001b[0m\u001b[37m\u001b[0m \u001b[1m284s\u001b[0m 162ms/step - accuracy: 0.9560 - loss: 0.1139 - val_accuracy: 0.8873 - val_loss: 0.4057\n",
      "Epoch 39/40\n",
      "\u001b[1m1757/1757\u001b[0m \u001b[32m━━━━━━━━━━━━━━━━━━━━\u001b[0m\u001b[37m\u001b[0m \u001b[1m285s\u001b[0m 162ms/step - accuracy: 0.9549 - loss: 0.1156 - val_accuracy: 0.8880 - val_loss: 0.4006\n",
      "Epoch 40/40\n",
      "\u001b[1m1757/1757\u001b[0m \u001b[32m━━━━━━━━━━━━━━━━━━━━\u001b[0m\u001b[37m\u001b[0m \u001b[1m287s\u001b[0m 163ms/step - accuracy: 0.9548 - loss: 0.1144 - val_accuracy: 0.8882 - val_loss: 0.4048\n"
     ]
    }
   ],
   "source": [
    "import tensorflow as tf\n",
    "\n",
    "y_train_one_hot = tf.keras.utils.to_categorical(y_train_encoded)\n",
    "y_test_one_hot = tf.keras.utils.to_categorical(y_test_encoded)\n",
    "history = model.fit(X_train, y_train_one_hot, epochs=40, validation_data=(X_test, y_test_one_hot))"
   ]
  },
  {
   "cell_type": "code",
   "execution_count": 40,
   "id": "bec7448e-5a4d-4bce-803c-7152e961b216",
   "metadata": {},
   "outputs": [
    {
     "data": {
      "image/png": "[encoded data removed]",
      "text/plain": [
       "<Figure size 640x480 with 1 Axes>"
      ]
     },
     "metadata": {},
     "output_type": "display_data"
    },
    {
     "data": {
      "image/png": "[encoded data removed]",
      "text/plain": [
       "<Figure size 640x480 with 1 Axes>"
      ]
     },
     "metadata": {},
     "output_type": "display_data"
    }
   ],
   "source": [
    "import matplotlib.pyplot as plt\n",
    "\n",
    "# Plot training & validation accuracy values\n",
    "plt.plot(history.history['accuracy'])\n",
    "plt.plot(history.history['val_accuracy'])\n",
    "plt.title('Model accuracy')\n",
    "plt.xlabel('Epoch')\n",
    "plt.ylabel('Accuracy')\n",
    "plt.legend(['Train', 'Test'], loc='upper left')\n",
    "plt.show()\n",
    "\n",
    "# Plot training & validation loss values\n",
    "plt.plot(history.history['loss'])\n",
    "plt.plot(history.history['val_loss'])\n",
    "plt.title('Model loss')\n",
    "plt.xlabel('Epoch')\n",
    "plt.ylabel('Loss')\n",
    "plt.legend(['Train', 'Test'], loc='upper left')\n",
    "plt.show()"
   ]
  },
  {
   "cell_type": "code",
   "execution_count": 41,
   "id": "87166729-86cb-4f5c-a41e-28539ba747d5",
   "metadata": {},
   "outputs": [
    {
     "name": "stdout",
     "output_type": "stream",
     "text": [
      "\u001b[1m440/440\u001b[0m \u001b[32m━━━━━━━━━━━━━━━━━━━━\u001b[0m\u001b[37m\u001b[0m \u001b[1m13s\u001b[0m 29ms/step - accuracy: 0.8913 - loss: 0.3970\n",
      "Test Loss: 0.4047599136829376\n",
      "Test Accuracy: 0.8881930112838745\n"
     ]
    }
   ],
   "source": [
    "# Evaluate the model on the test data\n",
    "loss, accuracy = model.evaluate(X_test, y_test_one_hot)\n",
    "\n",
    "print(\"Test Loss:\", loss)\n",
    "print(\"Test Accuracy:\", accuracy)"
   ]
  },
  {
   "cell_type": "code",
   "execution_count": null,
   "id": "aaeded60-a829-410a-96fb-da920325c242",
   "metadata": {},
   "outputs": [
    {
     "name": "stdout",
     "output_type": "stream",
     "text": [
      "\u001b[1m 50/440\u001b[0m \u001b[32m━━\u001b[0m\u001b[37m━━━━━━━━━━━━━━━━━━\u001b[0m \u001b[1m11s\u001b[0m 30ms/step"
     ]
    }
   ],
   "source": [
    "import matplotlib.pyplot as plt\n",
    "import seaborn as sns\n",
    "from sklearn.metrics import confusion_matrix\n",
    "import numpy as np\n",
    "\n",
    "y_pred_probs = model.predict(X_test)\n",
    "y_pred_labels = np.argmax(y_pred_probs, axis=1)\n",
    "y_true_labels = np.argmax(y_test_one_hot, axis=1)\n",
    "conf_matrix = confusion_matrix(y_true_labels, y_pred_labels)\n",
    "plt.figure(figsize=(8, 6))\n",
    "sns.heatmap(conf_matrix, annot=True, fmt='d', cmap='Blues', \n",
    "            xticklabels=['Negative', 'Positive', 'Neutral', 'Irrelevant'], \n",
    "            yticklabels=['Negative', 'Positive', 'Neutral', 'Irrelevant'])\n",
    "\n",
    "plt.xlabel('Predicted')\n",
    "plt.ylabel('True')\n",
    "plt.title('Confusion Matrix')\n",
    "plt.show()"
   ]
  },
  {
   "cell_type": "code",
   "execution_count": null,
   "id": "771987e5-e109-4a73-bcf9-33fc3737f8bc",
   "metadata": {},
   "outputs": [],
   "source": []
  }
 ],
 "metadata": {
  "kernelspec": {
   "display_name": "Python 3 (ipykernel)",
   "language": "python",
   "name": "python3"
  },
  "language_info": {
   "codemirror_mode": {
    "name": "ipython",
    "version": 3
   },
   "file_extension": ".py",
   "mimetype": "text/x-python",
   "name": "python",
   "nbconvert_exporter": "python",
   "pygments_lexer": "ipython3",
   "version": "3.11.5"
  }
 },
 "nbformat": 4,
 "nbformat_minor": 5
}
